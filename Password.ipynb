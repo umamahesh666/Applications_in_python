{
  "nbformat": 4,
  "nbformat_minor": 0,
  "metadata": {
    "colab": {
      "provenance": [],
      "authorship_tag": "ABX9TyPoIWTlIE75xBq80AlJeb/l",
      "include_colab_link": true
    },
    "kernelspec": {
      "name": "python3",
      "display_name": "Python 3"
    },
    "language_info": {
      "name": "python"
    }
  },
  "cells": [
    {
      "cell_type": "markdown",
      "metadata": {
        "id": "view-in-github",
        "colab_type": "text"
      },
      "source": [
        "<a href=\"https://colab.research.google.com/github/umamahesh666/Applications_in_python/blob/main/Password.ipynb\" target=\"_parent\"><img src=\"https://colab.research.google.com/assets/colab-badge.svg\" alt=\"Open In Colab\"/></a>"
      ]
    },
    {
      "cell_type": "markdown",
      "source": [
        "**CONDITIONS FOR STRONG PASSWORD**\n",
        "\n",
        "1.   Minimum 8 characters.\n",
        "2.   At least one alphabet should be of lower Case [a-z]\n",
        "3.   At least one alphabet should be of Upper Case [A-Z]\n",
        "4.   At least 1 number or digit between [0-9].\n",
        "5.   At least 1 character from [ _ or @ or $ ]"
      ],
      "metadata": {
        "id": "nY7am_NxvTWl"
      }
    },
    {
      "cell_type": "code",
      "execution_count": 9,
      "metadata": {
        "colab": {
          "base_uri": "https://localhost:8080/"
        },
        "id": "kqaUH90_p1nl",
        "outputId": "f366c317-79d0-401f-ba45-a38ef8c18cca"
      },
      "outputs": [
        {
          "output_type": "stream",
          "name": "stdout",
          "text": [
            "Uma@2812\n",
            "Strong Password\n"
          ]
        }
      ],
      "source": [
        "password = input()\n",
        "length = len(password)\n",
        "digit = 0\n",
        "upper_case = 0\n",
        "lower_case = 0\n",
        "special_char = 0\n",
        "for i in range(length):\n",
        "  if password[i].isdigit():\n",
        "    digit = 1 \n",
        "  elif password[i].isupper():\n",
        "    upper_case = 1\n",
        "  elif password[i].islower():\n",
        "    lower_case = 1\n",
        "  elif password[i] == '@' or password[i] == '$' or password[i] == '_':\n",
        "    special_char = 1\n",
        "if digit == 1 and upper_case == 1 and lower_case == 1 and special_char == 1 and length >= 8:\n",
        "  print(\"Strong Password\")\n",
        "else:\n",
        "  print(\"It's not a strong password \\nIt's highly recommand to keep strong password with given below conditions\\n1.Minimum 8 characters.\\n2At least one alphabet should be of lower Case [a-z].\\n3.At least one alphabet should be of Upper Case [A-Z]\\n4.At least 1 number or digit between [0-9].\\n5.At least 1 special character from [ _ or @ or $ ]\")"
      ]
    }
  ]
}