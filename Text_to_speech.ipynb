{
 "cells": [
  {
   "cell_type": "code",
   "execution_count": 4,
   "id": "ac7775b9",
   "metadata": {},
   "outputs": [
    {
     "name": "stdout",
     "output_type": "stream",
     "text": [
      "Requirement already satisfied: pyttsx3 in c:\\users\\uma maheswara reddy\\anaconda3\\lib\\site-packages (2.90)\n",
      "Requirement already satisfied: pypiwin32 in c:\\users\\uma maheswara reddy\\anaconda3\\lib\\site-packages (from pyttsx3) (223)\n",
      "Requirement already satisfied: comtypes in c:\\users\\uma maheswara reddy\\anaconda3\\lib\\site-packages (from pyttsx3) (1.1.9)\n",
      "Requirement already satisfied: pywin32 in c:\\users\\uma maheswara reddy\\anaconda3\\lib\\site-packages (from pyttsx3) (227)\n"
     ]
    }
   ],
   "source": [
    "!pip install pyttsx3"
   ]
  },
  {
   "cell_type": "markdown",
   "id": "3fcce095",
   "metadata": {},
   "source": [
    " IMPORTING THE PYTTSX3 LIBRARY"
   ]
  },
  {
   "cell_type": "code",
   "execution_count": 5,
   "id": "fdbca485",
   "metadata": {},
   "outputs": [],
   "source": [
    "import pyttsx3"
   ]
  },
  {
   "cell_type": "markdown",
   "id": "77cb18ce",
   "metadata": {},
   "source": [
    "INTAILZING THE PACKAGE "
   ]
  },
  {
   "cell_type": "code",
   "execution_count": 6,
   "id": "252f5559",
   "metadata": {},
   "outputs": [],
   "source": [
    "pyobj = pyttsx3.init()"
   ]
  },
  {
   "cell_type": "code",
   "execution_count": 9,
   "id": "bd735d4d",
   "metadata": {},
   "outputs": [],
   "source": [
    "pyobj.say(\"Anas is a lover boy\")\n",
    "pyobj.runAndWait()"
   ]
  },
  {
   "cell_type": "code",
   "execution_count": 10,
   "id": "9a46db82",
   "metadata": {},
   "outputs": [],
   "source": [
    "text = \"Good afternoon to everyone my name is uma\"\n",
    "pyobj.say(text)\n",
    "pyobj.runAndWait()"
   ]
  },
  {
   "cell_type": "code",
   "execution_count": 11,
   "id": "07ed086d",
   "metadata": {},
   "outputs": [
    {
     "name": "stdout",
     "output_type": "stream",
     "text": [
      "welcome to deep learning lab\n"
     ]
    }
   ],
   "source": [
    "text = input()\n",
    "pyobj.say(text)\n",
    "pyobj.runAndWait()"
   ]
  },
  {
   "cell_type": "markdown",
   "id": "ec3e5b5a",
   "metadata": {},
   "source": [
    "# Reading the text from the file"
   ]
  },
  {
   "cell_type": "code",
   "execution_count": 12,
   "id": "349c1579",
   "metadata": {},
   "outputs": [],
   "source": [
    "file_text = open(r\"C:\\Users\\uma maheswara reddy\\OneDrive\\Desktop\\text_to_speech\\text.txt\",'r')\n",
    "open_file = file_text.read()\n",
    "pyobj.say(open_file)\n",
    "pyobj.runAndWait()"
   ]
  },
  {
   "cell_type": "markdown",
   "id": "1391afef",
   "metadata": {},
   "source": [
    "# setProperty function"
   ]
  },
  {
   "cell_type": "code",
   "execution_count": 15,
   "id": "1c027999",
   "metadata": {},
   "outputs": [],
   "source": [
    "pyobj.setProperty('rate',100)\n",
    "pyobj.say(\"Hello welcome to deep learning lab today we can discuss about how to convert the text to speech\")\n",
    "pyobj.runAndWait()"
   ]
  },
  {
   "cell_type": "markdown",
   "id": "82aafa01",
   "metadata": {},
   "source": [
    "# volume"
   ]
  },
  {
   "cell_type": "code",
   "execution_count": 18,
   "id": "0468be3c",
   "metadata": {},
   "outputs": [],
   "source": [
    "pyobj.setProperty('rate',200)\n",
    "pyobj.setProperty('volume',0.8)\n",
    "pyobj.say(\"Hello welcome to deep learning lab today we can discuss about how to convert the text to speech\")\n",
    "pyobj.runAndWait()"
   ]
  },
  {
   "cell_type": "code",
   "execution_count": 19,
   "id": "c1318d9b",
   "metadata": {},
   "outputs": [
    {
     "name": "stdout",
     "output_type": "stream",
     "text": [
      "200\n"
     ]
    }
   ],
   "source": [
    "rate = pyobj.getProperty('rate')\n",
    "print(rate)"
   ]
  },
  {
   "cell_type": "markdown",
   "id": "1c06422d",
   "metadata": {},
   "source": [
    "# save_to_file function"
   ]
  },
  {
   "cell_type": "code",
   "execution_count": 20,
   "id": "24f69e27",
   "metadata": {},
   "outputs": [],
   "source": [
    "pyobj.setProperty('rate',200)\n",
    "pyobj.setProperty('volume',1)\n",
    "text = \"Hello welcome to deep learning lab today we can discuss about how to convert the text to speech\"\n",
    "pyobj.save_to_file(text,r\"C:\\Users\\uma maheswara reddy\\OneDrive\\Desktop\\text_to_speech\\uma.mp3\")\n",
    "pyobj.runAndWait()"
   ]
  },
  {
   "cell_type": "code",
   "execution_count": null,
   "id": "ddcc14e9",
   "metadata": {},
   "outputs": [],
   "source": []
  }
 ],
 "metadata": {
  "kernelspec": {
   "display_name": "Python 3",
   "language": "python",
   "name": "python3"
  },
  "language_info": {
   "codemirror_mode": {
    "name": "ipython",
    "version": 3
   },
   "file_extension": ".py",
   "mimetype": "text/x-python",
   "name": "python",
   "nbconvert_exporter": "python",
   "pygments_lexer": "ipython3",
   "version": "3.8.8"
  }
 },
 "nbformat": 4,
 "nbformat_minor": 5
}
